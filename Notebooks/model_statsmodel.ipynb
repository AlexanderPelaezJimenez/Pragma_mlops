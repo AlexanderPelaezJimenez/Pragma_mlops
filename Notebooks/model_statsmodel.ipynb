{
 "cells": [
  {
   "cell_type": "code",
   "execution_count": 1,
   "metadata": {},
   "outputs": [
    {
     "name": "stderr",
     "output_type": "stream",
     "text": [
      "C:\\Users\\User\\AppData\\Local\\Packages\\PythonSoftwareFoundation.Python.3.9_qbz5n2kfra8p0\\LocalCache\\local-packages\\Python39\\site-packages\\statsmodels\\compat\\pandas.py:61: FutureWarning: pandas.Int64Index is deprecated and will be removed from pandas in a future version. Use pandas.Index with the appropriate dtype instead.\n",
      "  from pandas import Int64Index as NumericIndex\n"
     ]
    }
   ],
   "source": [
    "# Importing necessary libraries:\n",
    "\n",
    "import numpy as np\n",
    "import pandas as pd\n",
    "import missingno as msno\n",
    "import matplotlib.pyplot as plt\n",
    "import seaborn as sns\n",
    "from sklearn.preprocessing import MinMaxScaler\n",
    "from sklearn.linear_model import LogisticRegression\n",
    "from sklearn.model_selection import train_test_split\n",
    "from sklearn.metrics import confusion_matrix, accuracy_score, classification_report\n",
    "from sklearn.model_selection import GridSearchCV\n",
    "from sklearn.pipeline import Pipeline\n",
    "from sklearn.model_selection import RepeatedStratifiedKFold\n",
    "from scipy.stats import loguniform\n",
    "from sklearn.model_selection import RandomizedSearchCV\n",
    "import pickle\n",
    "from scipy import stats\n",
    "import statsmodels.api as sm\n",
    "from sklearn.preprocessing import StandardScaler"
   ]
  },
  {
   "cell_type": "code",
   "execution_count": 31,
   "metadata": {},
   "outputs": [],
   "source": [
    "# import dataset\n",
    "\n",
    "path = '../Data/data_v2.csv'\n",
    "dataset = pd.read_csv(path)\n",
    "df = dataset.copy()"
   ]
  },
  {
   "cell_type": "code",
   "execution_count": 32,
   "metadata": {},
   "outputs": [],
   "source": [
    "df = df.drop('id', axis=1)"
   ]
  },
  {
   "cell_type": "code",
   "execution_count": 6,
   "metadata": {},
   "outputs": [
    {
     "data": {
      "text/html": [
       "<div>\n",
       "<style scoped>\n",
       "    .dataframe tbody tr th:only-of-type {\n",
       "        vertical-align: middle;\n",
       "    }\n",
       "\n",
       "    .dataframe tbody tr th {\n",
       "        vertical-align: top;\n",
       "    }\n",
       "\n",
       "    .dataframe thead th {\n",
       "        text-align: right;\n",
       "    }\n",
       "</style>\n",
       "<table border=\"1\" class=\"dataframe\">\n",
       "  <thead>\n",
       "    <tr style=\"text-align: right;\">\n",
       "      <th></th>\n",
       "      <th>area</th>\n",
       "      <th>sex</th>\n",
       "      <th>age</th>\n",
       "      <th>antiquity</th>\n",
       "      <th>salary</th>\n",
       "      <th>state</th>\n",
       "      <th>chapter</th>\n",
       "      <th>seniority</th>\n",
       "    </tr>\n",
       "  </thead>\n",
       "  <tbody>\n",
       "    <tr>\n",
       "      <th>0</th>\n",
       "      <td>CUSTOMER SUCCESS</td>\n",
       "      <td>FEMENINO</td>\n",
       "      <td>27.0</td>\n",
       "      <td>9.0</td>\n",
       "      <td>4000000</td>\n",
       "      <td>active</td>\n",
       "      <td>EXPERIENCIA_USUARIO</td>\n",
       "      <td>ADVANCED</td>\n",
       "    </tr>\n",
       "    <tr>\n",
       "      <th>1</th>\n",
       "      <td>CUSTOMER SUCCESS</td>\n",
       "      <td>FEMENINO</td>\n",
       "      <td>43.0</td>\n",
       "      <td>57.0</td>\n",
       "      <td>33000000</td>\n",
       "      <td>active</td>\n",
       "      <td>HEAD</td>\n",
       "      <td>MASTER</td>\n",
       "    </tr>\n",
       "    <tr>\n",
       "      <th>2</th>\n",
       "      <td>CUSTOMER SUCCESS</td>\n",
       "      <td>MASCULINO</td>\n",
       "      <td>24.0</td>\n",
       "      <td>0.0</td>\n",
       "      <td>2050000</td>\n",
       "      <td>retired</td>\n",
       "      <td>BACKEND</td>\n",
       "      <td>TRAINEE</td>\n",
       "    </tr>\n",
       "    <tr>\n",
       "      <th>3</th>\n",
       "      <td>CUSTOMER SUCCESS</td>\n",
       "      <td>MASCULINO</td>\n",
       "      <td>25.0</td>\n",
       "      <td>21.0</td>\n",
       "      <td>5500000</td>\n",
       "      <td>active</td>\n",
       "      <td>BACKEND</td>\n",
       "      <td>ADVANCED</td>\n",
       "    </tr>\n",
       "    <tr>\n",
       "      <th>4</th>\n",
       "      <td>CUSTOMER SUCCESS</td>\n",
       "      <td>FEMENINO</td>\n",
       "      <td>31.0</td>\n",
       "      <td>93.0</td>\n",
       "      <td>3406000</td>\n",
       "      <td>active</td>\n",
       "      <td>CALIDAD DE SOFTWARE</td>\n",
       "      <td>ADVANCED</td>\n",
       "    </tr>\n",
       "  </tbody>\n",
       "</table>\n",
       "</div>"
      ],
      "text/plain": [
       "               area        sex   age  antiquity    salary    state  \\\n",
       "0  CUSTOMER SUCCESS   FEMENINO  27.0        9.0   4000000   active   \n",
       "1  CUSTOMER SUCCESS   FEMENINO  43.0       57.0  33000000   active   \n",
       "2  CUSTOMER SUCCESS  MASCULINO  24.0        0.0   2050000  retired   \n",
       "3  CUSTOMER SUCCESS  MASCULINO  25.0       21.0   5500000   active   \n",
       "4  CUSTOMER SUCCESS   FEMENINO  31.0       93.0   3406000   active   \n",
       "\n",
       "               chapter seniority  \n",
       "0  EXPERIENCIA_USUARIO  ADVANCED  \n",
       "1                 HEAD    MASTER  \n",
       "2              BACKEND   TRAINEE  \n",
       "3              BACKEND  ADVANCED  \n",
       "4  CALIDAD DE SOFTWARE  ADVANCED  "
      ]
     },
     "execution_count": 6,
     "metadata": {},
     "output_type": "execute_result"
    }
   ],
   "source": [
    "df.head()"
   ]
  },
  {
   "cell_type": "code",
   "execution_count": 33,
   "metadata": {},
   "outputs": [
    {
     "data": {
      "text/html": [
       "<div>\n",
       "<style scoped>\n",
       "    .dataframe tbody tr th:only-of-type {\n",
       "        vertical-align: middle;\n",
       "    }\n",
       "\n",
       "    .dataframe tbody tr th {\n",
       "        vertical-align: top;\n",
       "    }\n",
       "\n",
       "    .dataframe thead th {\n",
       "        text-align: right;\n",
       "    }\n",
       "</style>\n",
       "<table border=\"1\" class=\"dataframe\">\n",
       "  <thead>\n",
       "    <tr style=\"text-align: right;\">\n",
       "      <th></th>\n",
       "      <th>sex</th>\n",
       "      <th>age</th>\n",
       "      <th>antiquity</th>\n",
       "      <th>salary</th>\n",
       "      <th>state</th>\n",
       "      <th>seniority</th>\n",
       "    </tr>\n",
       "  </thead>\n",
       "  <tbody>\n",
       "    <tr>\n",
       "      <th>0</th>\n",
       "      <td>FEMENINO</td>\n",
       "      <td>27.0</td>\n",
       "      <td>9.0</td>\n",
       "      <td>4000000</td>\n",
       "      <td>active</td>\n",
       "      <td>ADVANCED</td>\n",
       "    </tr>\n",
       "    <tr>\n",
       "      <th>1</th>\n",
       "      <td>FEMENINO</td>\n",
       "      <td>43.0</td>\n",
       "      <td>57.0</td>\n",
       "      <td>33000000</td>\n",
       "      <td>active</td>\n",
       "      <td>MASTER</td>\n",
       "    </tr>\n",
       "    <tr>\n",
       "      <th>2</th>\n",
       "      <td>MASCULINO</td>\n",
       "      <td>24.0</td>\n",
       "      <td>0.0</td>\n",
       "      <td>2050000</td>\n",
       "      <td>retired</td>\n",
       "      <td>TRAINEE</td>\n",
       "    </tr>\n",
       "    <tr>\n",
       "      <th>3</th>\n",
       "      <td>MASCULINO</td>\n",
       "      <td>25.0</td>\n",
       "      <td>21.0</td>\n",
       "      <td>5500000</td>\n",
       "      <td>active</td>\n",
       "      <td>ADVANCED</td>\n",
       "    </tr>\n",
       "    <tr>\n",
       "      <th>4</th>\n",
       "      <td>FEMENINO</td>\n",
       "      <td>31.0</td>\n",
       "      <td>93.0</td>\n",
       "      <td>3406000</td>\n",
       "      <td>active</td>\n",
       "      <td>ADVANCED</td>\n",
       "    </tr>\n",
       "  </tbody>\n",
       "</table>\n",
       "</div>"
      ],
      "text/plain": [
       "         sex   age  antiquity    salary    state seniority\n",
       "0   FEMENINO  27.0        9.0   4000000   active  ADVANCED\n",
       "1   FEMENINO  43.0       57.0  33000000   active    MASTER\n",
       "2  MASCULINO  24.0        0.0   2050000  retired   TRAINEE\n",
       "3  MASCULINO  25.0       21.0   5500000   active  ADVANCED\n",
       "4   FEMENINO  31.0       93.0   3406000   active  ADVANCED"
      ]
     },
     "execution_count": 33,
     "metadata": {},
     "output_type": "execute_result"
    }
   ],
   "source": [
    "df  =df.drop(['area', 'chapter'], axis=1)\n",
    "df.head()"
   ]
  },
  {
   "cell_type": "code",
   "execution_count": 34,
   "metadata": {},
   "outputs": [
    {
     "name": "stdout",
     "output_type": "stream",
     "text": [
      "<class 'pandas.core.frame.DataFrame'>\n",
      "RangeIndex: 1329 entries, 0 to 1328\n",
      "Data columns (total 6 columns):\n",
      " #   Column     Non-Null Count  Dtype  \n",
      "---  ------     --------------  -----  \n",
      " 0   sex        1329 non-null   object \n",
      " 1   age        1329 non-null   float64\n",
      " 2   antiquity  1329 non-null   float64\n",
      " 3   salary     1329 non-null   int64  \n",
      " 4   state      1329 non-null   object \n",
      " 5   seniority  1329 non-null   object \n",
      "dtypes: float64(2), int64(1), object(3)\n",
      "memory usage: 62.4+ KB\n"
     ]
    }
   ],
   "source": [
    "df.info()"
   ]
  },
  {
   "cell_type": "code",
   "execution_count": 7,
   "metadata": {},
   "outputs": [
    {
     "data": {
      "image/png": "[encoded data removed]",
      "text/plain": [
       "<Figure size 1080x1080 with 9 Axes>"
      ]
     },
     "metadata": {
      "needs_background": "light"
     },
     "output_type": "display_data"
    },
    {
     "data": {
      "image/png": "[encoded data removed]",
      "text/plain": [
       "<Figure size 1080x360 with 5 Axes>"
      ]
     },
     "metadata": {},
     "output_type": "display_data"
    }
   ],
   "source": [
    "num_cols = df.select_dtypes(include='number').columns\n",
    "cat_cols = df.select_dtypes(include='object').columns\n",
    "\n",
    "fig, axs = plt.subplots(ncols=3, nrows=len(num_cols), figsize=(15, len(num_cols)*5))\n",
    "\n",
    "for i, col in enumerate(num_cols):\n",
    "    sns.histplot(x=num_cols[i], data=df, kde=True, ax=axs[i][0])\n",
    "    sns.boxplot(x=num_cols[i], data=df, ax=axs[i][1])\n",
    "    sns.violinplot(x=num_cols[i], data=df, ax=axs[i][2])\n",
    "    axs[i][0].set_title(num_cols[i])\n",
    "    axs[i][1].set_title('')\n",
    "    axs[i][2].set_title('')\n",
    "    \n",
    "sns.set_palette(\"Set2\")\n",
    "sns.set_style(\"whitegrid\")\n",
    "sns.despine()\n",
    "\n",
    "sns.set(rc={'figure.figsize':(15, 5)})\n",
    "fig, axs = plt.subplots(ncols=len(cat_cols), nrows=1)\n",
    "\n",
    "for i, col in enumerate(cat_cols):\n",
    "    sns.countplot(x=cat_cols[i], data=df, ax=axs[i])\n",
    "    axs[i].set_title(cat_cols[i])\n",
    "\n",
    "plt.tight_layout()\n",
    "plt.show()"
   ]
  },
  {
   "cell_type": "code",
   "execution_count": 35,
   "metadata": {},
   "outputs": [],
   "source": [
    "scaler = StandardScaler()"
   ]
  },
  {
   "cell_type": "code",
   "execution_count": 36,
   "metadata": {},
   "outputs": [],
   "source": [
    "df[['age', 'antiquity', 'salary']] = scaler.fit_transform(df[['age', 'antiquity', 'salary']])"
   ]
  },
  {
   "cell_type": "code",
   "execution_count": 12,
   "metadata": {},
   "outputs": [
    {
     "data": {
      "image/png": "[encoded data removed]",
      "text/plain": [
       "<Figure size 1080x1080 with 9 Axes>"
      ]
     },
     "metadata": {},
     "output_type": "display_data"
    },
    {
     "data": {
      "image/png": "[encoded data removed]",
      "text/plain": [
       "<Figure size 1080x360 with 5 Axes>"
      ]
     },
     "metadata": {},
     "output_type": "display_data"
    }
   ],
   "source": [
    "num_cols = df.select_dtypes(include='number').columns\n",
    "cat_cols = df.select_dtypes(include='object').columns\n",
    "\n",
    "fig, axs = plt.subplots(ncols=3, nrows=len(num_cols), figsize=(15, len(num_cols)*5))\n",
    "\n",
    "for i, col in enumerate(num_cols):\n",
    "    sns.histplot(x=num_cols[i], data=df, kde=True, ax=axs[i][0])\n",
    "    sns.boxplot(x=num_cols[i], data=df, ax=axs[i][1])\n",
    "    sns.violinplot(x=num_cols[i], data=df, ax=axs[i][2])\n",
    "    axs[i][0].set_title(num_cols[i])\n",
    "    axs[i][1].set_title('')\n",
    "    axs[i][2].set_title('')\n",
    "    \n",
    "sns.set_palette(\"Set2\")\n",
    "sns.set_style(\"whitegrid\")\n",
    "sns.despine()\n",
    "\n",
    "sns.set(rc={'figure.figsize':(15, 5)})\n",
    "fig, axs = plt.subplots(ncols=len(cat_cols), nrows=1)\n",
    "\n",
    "for i, col in enumerate(cat_cols):\n",
    "    sns.countplot(x=cat_cols[i], data=df, ax=axs[i])\n",
    "    axs[i].set_title(cat_cols[i])\n",
    "\n",
    "plt.tight_layout()\n",
    "plt.show()"
   ]
  },
  {
   "cell_type": "code",
   "execution_count": 37,
   "metadata": {},
   "outputs": [
    {
     "data": {
      "text/html": [
       "<div>\n",
       "<style scoped>\n",
       "    .dataframe tbody tr th:only-of-type {\n",
       "        vertical-align: middle;\n",
       "    }\n",
       "\n",
       "    .dataframe tbody tr th {\n",
       "        vertical-align: top;\n",
       "    }\n",
       "\n",
       "    .dataframe thead th {\n",
       "        text-align: right;\n",
       "    }\n",
       "</style>\n",
       "<table border=\"1\" class=\"dataframe\">\n",
       "  <thead>\n",
       "    <tr style=\"text-align: right;\">\n",
       "      <th></th>\n",
       "      <th>sex</th>\n",
       "      <th>age</th>\n",
       "      <th>antiquity</th>\n",
       "      <th>salary</th>\n",
       "      <th>state</th>\n",
       "      <th>seniority</th>\n",
       "    </tr>\n",
       "  </thead>\n",
       "  <tbody>\n",
       "    <tr>\n",
       "      <th>0</th>\n",
       "      <td>FEMENINO</td>\n",
       "      <td>-0.445111</td>\n",
       "      <td>-0.361086</td>\n",
       "      <td>-0.312392</td>\n",
       "      <td>active</td>\n",
       "      <td>ADVANCED</td>\n",
       "    </tr>\n",
       "    <tr>\n",
       "      <th>1</th>\n",
       "      <td>FEMENINO</td>\n",
       "      <td>1.962790</td>\n",
       "      <td>1.314875</td>\n",
       "      <td>7.131050</td>\n",
       "      <td>active</td>\n",
       "      <td>MASTER</td>\n",
       "    </tr>\n",
       "    <tr>\n",
       "      <th>2</th>\n",
       "      <td>MASCULINO</td>\n",
       "      <td>-0.896593</td>\n",
       "      <td>-0.675329</td>\n",
       "      <td>-0.812899</td>\n",
       "      <td>retired</td>\n",
       "      <td>TRAINEE</td>\n",
       "    </tr>\n",
       "    <tr>\n",
       "      <th>3</th>\n",
       "      <td>MASCULINO</td>\n",
       "      <td>-0.746099</td>\n",
       "      <td>0.057904</td>\n",
       "      <td>0.072614</td>\n",
       "      <td>active</td>\n",
       "      <td>ADVANCED</td>\n",
       "    </tr>\n",
       "    <tr>\n",
       "      <th>4</th>\n",
       "      <td>FEMENINO</td>\n",
       "      <td>0.156864</td>\n",
       "      <td>2.571846</td>\n",
       "      <td>-0.464854</td>\n",
       "      <td>active</td>\n",
       "      <td>ADVANCED</td>\n",
       "    </tr>\n",
       "    <tr>\n",
       "      <th>...</th>\n",
       "      <td>...</td>\n",
       "      <td>...</td>\n",
       "      <td>...</td>\n",
       "      <td>...</td>\n",
       "      <td>...</td>\n",
       "      <td>...</td>\n",
       "    </tr>\n",
       "    <tr>\n",
       "      <th>1324</th>\n",
       "      <td>MASCULINO</td>\n",
       "      <td>-1.197581</td>\n",
       "      <td>-0.605497</td>\n",
       "      <td>-0.438673</td>\n",
       "      <td>active</td>\n",
       "      <td>ADVANCED</td>\n",
       "    </tr>\n",
       "    <tr>\n",
       "      <th>1325</th>\n",
       "      <td>FEMENINO</td>\n",
       "      <td>-0.595605</td>\n",
       "      <td>1.279959</td>\n",
       "      <td>0.508954</td>\n",
       "      <td>active</td>\n",
       "      <td>SENIOR</td>\n",
       "    </tr>\n",
       "    <tr>\n",
       "      <th>1326</th>\n",
       "      <td>MASCULINO</td>\n",
       "      <td>2.715260</td>\n",
       "      <td>0.546726</td>\n",
       "      <td>-0.515675</td>\n",
       "      <td>active</td>\n",
       "      <td>ADVANCED</td>\n",
       "    </tr>\n",
       "    <tr>\n",
       "      <th>1327</th>\n",
       "      <td>MASCULINO</td>\n",
       "      <td>-0.595605</td>\n",
       "      <td>-0.570581</td>\n",
       "      <td>0.072614</td>\n",
       "      <td>active</td>\n",
       "      <td>ADVANCED</td>\n",
       "    </tr>\n",
       "    <tr>\n",
       "      <th>1328</th>\n",
       "      <td>FEMENINO</td>\n",
       "      <td>0.457852</td>\n",
       "      <td>0.791137</td>\n",
       "      <td>-0.697397</td>\n",
       "      <td>active</td>\n",
       "      <td>MASTER</td>\n",
       "    </tr>\n",
       "  </tbody>\n",
       "</table>\n",
       "<p>1329 rows × 6 columns</p>\n",
       "</div>"
      ],
      "text/plain": [
       "            sex       age  antiquity    salary    state seniority\n",
       "0      FEMENINO -0.445111  -0.361086 -0.312392   active  ADVANCED\n",
       "1      FEMENINO  1.962790   1.314875  7.131050   active    MASTER\n",
       "2     MASCULINO -0.896593  -0.675329 -0.812899  retired   TRAINEE\n",
       "3     MASCULINO -0.746099   0.057904  0.072614   active  ADVANCED\n",
       "4      FEMENINO  0.156864   2.571846 -0.464854   active  ADVANCED\n",
       "...         ...       ...        ...       ...      ...       ...\n",
       "1324  MASCULINO -1.197581  -0.605497 -0.438673   active  ADVANCED\n",
       "1325   FEMENINO -0.595605   1.279959  0.508954   active    SENIOR\n",
       "1326  MASCULINO  2.715260   0.546726 -0.515675   active  ADVANCED\n",
       "1327  MASCULINO -0.595605  -0.570581  0.072614   active  ADVANCED\n",
       "1328   FEMENINO  0.457852   0.791137 -0.697397   active    MASTER\n",
       "\n",
       "[1329 rows x 6 columns]"
      ]
     },
     "execution_count": 37,
     "metadata": {},
     "output_type": "execute_result"
    }
   ],
   "source": [
    "df"
   ]
  },
  {
   "cell_type": "code",
   "execution_count": 38,
   "metadata": {},
   "outputs": [],
   "source": [
    "Y = df['state'].map({'active':0, 'retired':1})"
   ]
  },
  {
   "cell_type": "code",
   "execution_count": 39,
   "metadata": {},
   "outputs": [],
   "source": [
    "X = df[['sex', 'age', 'antiquity', 'salary', 'seniority']]"
   ]
  },
  {
   "cell_type": "code",
   "execution_count": 40,
   "metadata": {},
   "outputs": [],
   "source": [
    "X = pd.get_dummies(X, columns=['sex', 'seniority'], drop_first=True)"
   ]
  },
  {
   "cell_type": "code",
   "execution_count": 41,
   "metadata": {},
   "outputs": [
    {
     "data": {
      "text/html": [
       "<div>\n",
       "<style scoped>\n",
       "    .dataframe tbody tr th:only-of-type {\n",
       "        vertical-align: middle;\n",
       "    }\n",
       "\n",
       "    .dataframe tbody tr th {\n",
       "        vertical-align: top;\n",
       "    }\n",
       "\n",
       "    .dataframe thead th {\n",
       "        text-align: right;\n",
       "    }\n",
       "</style>\n",
       "<table border=\"1\" class=\"dataframe\">\n",
       "  <thead>\n",
       "    <tr style=\"text-align: right;\">\n",
       "      <th></th>\n",
       "      <th>age</th>\n",
       "      <th>antiquity</th>\n",
       "      <th>salary</th>\n",
       "      <th>sex_MASCULINO</th>\n",
       "      <th>seniority_JUNIOR</th>\n",
       "      <th>seniority_MASTER</th>\n",
       "      <th>seniority_SENIOR</th>\n",
       "      <th>seniority_TRAINEE</th>\n",
       "    </tr>\n",
       "  </thead>\n",
       "  <tbody>\n",
       "    <tr>\n",
       "      <th>0</th>\n",
       "      <td>-0.445111</td>\n",
       "      <td>-0.361086</td>\n",
       "      <td>-0.312392</td>\n",
       "      <td>0</td>\n",
       "      <td>0</td>\n",
       "      <td>0</td>\n",
       "      <td>0</td>\n",
       "      <td>0</td>\n",
       "    </tr>\n",
       "    <tr>\n",
       "      <th>1</th>\n",
       "      <td>1.962790</td>\n",
       "      <td>1.314875</td>\n",
       "      <td>7.131050</td>\n",
       "      <td>0</td>\n",
       "      <td>0</td>\n",
       "      <td>1</td>\n",
       "      <td>0</td>\n",
       "      <td>0</td>\n",
       "    </tr>\n",
       "    <tr>\n",
       "      <th>2</th>\n",
       "      <td>-0.896593</td>\n",
       "      <td>-0.675329</td>\n",
       "      <td>-0.812899</td>\n",
       "      <td>1</td>\n",
       "      <td>0</td>\n",
       "      <td>0</td>\n",
       "      <td>0</td>\n",
       "      <td>1</td>\n",
       "    </tr>\n",
       "    <tr>\n",
       "      <th>3</th>\n",
       "      <td>-0.746099</td>\n",
       "      <td>0.057904</td>\n",
       "      <td>0.072614</td>\n",
       "      <td>1</td>\n",
       "      <td>0</td>\n",
       "      <td>0</td>\n",
       "      <td>0</td>\n",
       "      <td>0</td>\n",
       "    </tr>\n",
       "    <tr>\n",
       "      <th>4</th>\n",
       "      <td>0.156864</td>\n",
       "      <td>2.571846</td>\n",
       "      <td>-0.464854</td>\n",
       "      <td>0</td>\n",
       "      <td>0</td>\n",
       "      <td>0</td>\n",
       "      <td>0</td>\n",
       "      <td>0</td>\n",
       "    </tr>\n",
       "    <tr>\n",
       "      <th>...</th>\n",
       "      <td>...</td>\n",
       "      <td>...</td>\n",
       "      <td>...</td>\n",
       "      <td>...</td>\n",
       "      <td>...</td>\n",
       "      <td>...</td>\n",
       "      <td>...</td>\n",
       "      <td>...</td>\n",
       "    </tr>\n",
       "    <tr>\n",
       "      <th>1324</th>\n",
       "      <td>-1.197581</td>\n",
       "      <td>-0.605497</td>\n",
       "      <td>-0.438673</td>\n",
       "      <td>1</td>\n",
       "      <td>0</td>\n",
       "      <td>0</td>\n",
       "      <td>0</td>\n",
       "      <td>0</td>\n",
       "    </tr>\n",
       "    <tr>\n",
       "      <th>1325</th>\n",
       "      <td>-0.595605</td>\n",
       "      <td>1.279959</td>\n",
       "      <td>0.508954</td>\n",
       "      <td>0</td>\n",
       "      <td>0</td>\n",
       "      <td>0</td>\n",
       "      <td>1</td>\n",
       "      <td>0</td>\n",
       "    </tr>\n",
       "    <tr>\n",
       "      <th>1326</th>\n",
       "      <td>2.715260</td>\n",
       "      <td>0.546726</td>\n",
       "      <td>-0.515675</td>\n",
       "      <td>1</td>\n",
       "      <td>0</td>\n",
       "      <td>0</td>\n",
       "      <td>0</td>\n",
       "      <td>0</td>\n",
       "    </tr>\n",
       "    <tr>\n",
       "      <th>1327</th>\n",
       "      <td>-0.595605</td>\n",
       "      <td>-0.570581</td>\n",
       "      <td>0.072614</td>\n",
       "      <td>1</td>\n",
       "      <td>0</td>\n",
       "      <td>0</td>\n",
       "      <td>0</td>\n",
       "      <td>0</td>\n",
       "    </tr>\n",
       "    <tr>\n",
       "      <th>1328</th>\n",
       "      <td>0.457852</td>\n",
       "      <td>0.791137</td>\n",
       "      <td>-0.697397</td>\n",
       "      <td>0</td>\n",
       "      <td>0</td>\n",
       "      <td>1</td>\n",
       "      <td>0</td>\n",
       "      <td>0</td>\n",
       "    </tr>\n",
       "  </tbody>\n",
       "</table>\n",
       "<p>1329 rows × 8 columns</p>\n",
       "</div>"
      ],
      "text/plain": [
       "           age  antiquity    salary  sex_MASCULINO  seniority_JUNIOR  \\\n",
       "0    -0.445111  -0.361086 -0.312392              0                 0   \n",
       "1     1.962790   1.314875  7.131050              0                 0   \n",
       "2    -0.896593  -0.675329 -0.812899              1                 0   \n",
       "3    -0.746099   0.057904  0.072614              1                 0   \n",
       "4     0.156864   2.571846 -0.464854              0                 0   \n",
       "...        ...        ...       ...            ...               ...   \n",
       "1324 -1.197581  -0.605497 -0.438673              1                 0   \n",
       "1325 -0.595605   1.279959  0.508954              0                 0   \n",
       "1326  2.715260   0.546726 -0.515675              1                 0   \n",
       "1327 -0.595605  -0.570581  0.072614              1                 0   \n",
       "1328  0.457852   0.791137 -0.697397              0                 0   \n",
       "\n",
       "      seniority_MASTER  seniority_SENIOR  seniority_TRAINEE  \n",
       "0                    0                 0                  0  \n",
       "1                    1                 0                  0  \n",
       "2                    0                 0                  1  \n",
       "3                    0                 0                  0  \n",
       "4                    0                 0                  0  \n",
       "...                ...               ...                ...  \n",
       "1324                 0                 0                  0  \n",
       "1325                 0                 1                  0  \n",
       "1326                 0                 0                  0  \n",
       "1327                 0                 0                  0  \n",
       "1328                 1                 0                  0  \n",
       "\n",
       "[1329 rows x 8 columns]"
      ]
     },
     "execution_count": 41,
     "metadata": {},
     "output_type": "execute_result"
    }
   ],
   "source": [
    "X"
   ]
  },
  {
   "attachments": {},
   "cell_type": "markdown",
   "metadata": {},
   "source": [
    "Modelo"
   ]
  },
  {
   "cell_type": "code",
   "execution_count": 42,
   "metadata": {},
   "outputs": [
    {
     "name": "stdout",
     "output_type": "stream",
     "text": [
      "Optimization terminated successfully.\n",
      "         Current function value: 0.558803\n",
      "         Iterations 6\n"
     ]
    }
   ],
   "source": [
    "model = sm.Logit(Y, sm.add_constant(X)).fit()"
   ]
  },
  {
   "cell_type": "code",
   "execution_count": 43,
   "metadata": {},
   "outputs": [
    {
     "name": "stdout",
     "output_type": "stream",
     "text": [
      "                           Logit Regression Results                           \n",
      "==============================================================================\n",
      "Dep. Variable:                  state   No. Observations:                 1329\n",
      "Model:                          Logit   Df Residuals:                     1320\n",
      "Method:                           MLE   Df Model:                            8\n",
      "Date:                Sat, 29 Apr 2023   Pseudo R-squ.:                 0.07156\n",
      "Time:                        16:32:27   Log-Likelihood:                -742.65\n",
      "converged:                       True   LL-Null:                       -799.89\n",
      "Covariance Type:            nonrobust   LLR p-value:                 4.548e-21\n",
      "=====================================================================================\n",
      "                        coef    std err          z      P>|z|      [0.025      0.975]\n",
      "-------------------------------------------------------------------------------------\n",
      "const                -1.2036      0.163     -7.364      0.000      -1.524      -0.883\n",
      "age                   0.1356      0.075      1.809      0.071      -0.011       0.283\n",
      "antiquity            -0.0957      0.088     -1.091      0.275      -0.268       0.076\n",
      "salary               -0.4279      0.102     -4.207      0.000      -0.627      -0.229\n",
      "sex_MASCULINO         0.3791      0.167      2.272      0.023       0.052       0.706\n",
      "seniority_JUNIOR     -0.3106      0.152     -2.045      0.041      -0.608      -0.013\n",
      "seniority_MASTER      2.2468      0.301      7.470      0.000       1.657       2.836\n",
      "seniority_SENIOR     -0.4142      0.224     -1.849      0.065      -0.853       0.025\n",
      "seniority_TRAINEE    -0.9572      0.367     -2.607      0.009      -1.677      -0.237\n",
      "=====================================================================================\n"
     ]
    }
   ],
   "source": [
    "print(model.summary())"
   ]
  },
  {
   "attachments": {},
   "cell_type": "markdown",
   "metadata": {},
   "source": [
    "Antes de entrar en la interpretación de los coeficientes, es importante resaltar que al usar la regresión logística, los coeficientes no representan un cambio unitario en la variable dependiente. En su lugar, representan el cambio en el logaritmo de las posibilidades (log-odds) de renunciar. Para obtener la interpretación en términos de porcentaje, debemos calcular la proporción de cambio en las posibilidades (odds ratio) utilizando la fórmula exp(coeficiente).\n",
    "\n",
    "A continuación, se presenta la interpretación de cada coeficiente:\n",
    "\n",
    "const: -1.2036 (P-valor: 0.000)\n",
    "Este coeficiente representa el logaritmo de las posibilidades de renunciar cuando todas las variables independientes son iguales a cero (o en el caso de las variables categóricas, cuando se trata de la categoría de referencia). Dado que las variables han sido transformadas, no tiene una interpretación directa en este contexto.\n",
    "\n",
    "edad: 0.1356 (P-valor: 0.071)\n",
    "Por cada aumento en un año de edad, las posibilidades de renunciar aumentan en un exp(0.1356) = 1.145 (o un 14.5%) manteniendo constantes las demás variables. Sin embargo, el P-valor es mayor que 0.05, lo que sugiere que este efecto no es estadísticamente significativo al nivel del 5%.\n",
    "\n",
    "antiguedad: -0.0957 (P-valor: 0.275)\n",
    "Por cada aumento en un mes de antigüedad en la empresa, las posibilidades de renunciar disminuyen en un exp(-0.0957) = 0.908 (o un 9.2%) manteniendo constantes las demás variables. El P-valor es mayor que 0.05, lo que sugiere que este efecto no es estadísticamente significativo al nivel del 5%.\n",
    "\n",
    "salario: -0.4279 (P-valor: 0.000)\n",
    "Por cada aumento en una unidad estandarizada de salario, las posibilidades de renunciar disminuyen en un exp(-0.4279) = 0.652 (o un 34.8%) manteniendo constantes las demás variables. El P-valor es menor que 0.05, lo que indica que este efecto es estadísticamente significativo.\n",
    "\n",
    "sexo_Masculino: 0.3791 (P-valor: 0.023)\n",
    "Si la persona es de sexo masculino, las posibilidades de renunciar aumentan en un exp(0.3791) = 1.461 (o un 46.1%) en comparación con el sexo femenino (la categoría de referencia), manteniendo constantes las demás variables. El P-valor es menor que 0.05, lo que indica que este efecto es estadísticamente significativo.\n",
    "\n",
    "seniority_Junior: -0.3106 (P-valor: 0.041)\n",
    "Si la persona tiene una posición de seniority Junior, las posibilidades de renunciar disminuyen en un exp(-0.3106) = 0.733 (o un 26.7%) en comparación con la posición de Advanced (la categoría de referencia), manteniendo constantes las demás variables. El P-valor es menor que 0.05, lo que indica que este efecto es estadísticamente significativo.\n",
    "\n",
    "seniority_Master: 2.2468 (P-valor: 0.000)\n",
    "Si la persona tiene una posición de seniority Master, las posibilidades de renunciar aumentan en un exp(2.2468) = 9.457 (o un 845.7%) en comparación con la posición de Advanced (la categoría de referencia), manteniendo constantes las demás variables. El P-valor es menor que 0.05, lo que indica que este efecto es estadísticamente significativo.\n",
    "\n",
    "seniority_Senior: -0.4142 (P-valor: 0.065)\n",
    "Si la persona tiene una posición de seniority Senior, las posibilidades de renunciar disminuyen en un exp(-0.4142) = 0.661 (o un 33.9%) en comparación con la posición de Advanced (la categoría de referencia), manteniendo constantes las demás variables. El P-valor es mayor que 0.05, lo que sugiere que este efecto no es estadísticamente significativo al nivel del 5%."
   ]
  },
  {
   "attachments": {},
   "cell_type": "markdown",
   "metadata": {},
   "source": [
    "# Seniority como variable categórica ordinal"
   ]
  },
  {
   "cell_type": "code",
   "execution_count": 44,
   "metadata": {},
   "outputs": [],
   "source": [
    "df2 = pd.read_csv('../Data/data_v2.csv')\n",
    "df2 = df2.drop(['id','area','chapter'], axis=1)"
   ]
  },
  {
   "cell_type": "code",
   "execution_count": 45,
   "metadata": {},
   "outputs": [
    {
     "data": {
      "text/html": [
       "<div>\n",
       "<style scoped>\n",
       "    .dataframe tbody tr th:only-of-type {\n",
       "        vertical-align: middle;\n",
       "    }\n",
       "\n",
       "    .dataframe tbody tr th {\n",
       "        vertical-align: top;\n",
       "    }\n",
       "\n",
       "    .dataframe thead th {\n",
       "        text-align: right;\n",
       "    }\n",
       "</style>\n",
       "<table border=\"1\" class=\"dataframe\">\n",
       "  <thead>\n",
       "    <tr style=\"text-align: right;\">\n",
       "      <th></th>\n",
       "      <th>sex</th>\n",
       "      <th>age</th>\n",
       "      <th>antiquity</th>\n",
       "      <th>salary</th>\n",
       "      <th>state</th>\n",
       "      <th>seniority</th>\n",
       "    </tr>\n",
       "  </thead>\n",
       "  <tbody>\n",
       "    <tr>\n",
       "      <th>0</th>\n",
       "      <td>FEMENINO</td>\n",
       "      <td>27.0</td>\n",
       "      <td>9.0</td>\n",
       "      <td>4000000</td>\n",
       "      <td>active</td>\n",
       "      <td>ADVANCED</td>\n",
       "    </tr>\n",
       "    <tr>\n",
       "      <th>1</th>\n",
       "      <td>FEMENINO</td>\n",
       "      <td>43.0</td>\n",
       "      <td>57.0</td>\n",
       "      <td>33000000</td>\n",
       "      <td>active</td>\n",
       "      <td>MASTER</td>\n",
       "    </tr>\n",
       "    <tr>\n",
       "      <th>2</th>\n",
       "      <td>MASCULINO</td>\n",
       "      <td>24.0</td>\n",
       "      <td>0.0</td>\n",
       "      <td>2050000</td>\n",
       "      <td>retired</td>\n",
       "      <td>TRAINEE</td>\n",
       "    </tr>\n",
       "  </tbody>\n",
       "</table>\n",
       "</div>"
      ],
      "text/plain": [
       "         sex   age  antiquity    salary    state seniority\n",
       "0   FEMENINO  27.0        9.0   4000000   active  ADVANCED\n",
       "1   FEMENINO  43.0       57.0  33000000   active    MASTER\n",
       "2  MASCULINO  24.0        0.0   2050000  retired   TRAINEE"
      ]
     },
     "execution_count": 45,
     "metadata": {},
     "output_type": "execute_result"
    }
   ],
   "source": [
    "df2.head(3)"
   ]
  },
  {
   "cell_type": "code",
   "execution_count": 46,
   "metadata": {},
   "outputs": [],
   "source": [
    "df2 = pd.get_dummies(df2, columns=['sex'], drop_first=True)"
   ]
  },
  {
   "cell_type": "code",
   "execution_count": 20,
   "metadata": {},
   "outputs": [
    {
     "data": {
      "text/html": [
       "<div>\n",
       "<style scoped>\n",
       "    .dataframe tbody tr th:only-of-type {\n",
       "        vertical-align: middle;\n",
       "    }\n",
       "\n",
       "    .dataframe tbody tr th {\n",
       "        vertical-align: top;\n",
       "    }\n",
       "\n",
       "    .dataframe thead th {\n",
       "        text-align: right;\n",
       "    }\n",
       "</style>\n",
       "<table border=\"1\" class=\"dataframe\">\n",
       "  <thead>\n",
       "    <tr style=\"text-align: right;\">\n",
       "      <th></th>\n",
       "      <th>age</th>\n",
       "      <th>antiquity</th>\n",
       "      <th>salary</th>\n",
       "      <th>state</th>\n",
       "      <th>seniority</th>\n",
       "      <th>sex_MASCULINO</th>\n",
       "    </tr>\n",
       "  </thead>\n",
       "  <tbody>\n",
       "    <tr>\n",
       "      <th>0</th>\n",
       "      <td>27.0</td>\n",
       "      <td>9.0</td>\n",
       "      <td>4000000</td>\n",
       "      <td>active</td>\n",
       "      <td>ADVANCED</td>\n",
       "      <td>0</td>\n",
       "    </tr>\n",
       "    <tr>\n",
       "      <th>1</th>\n",
       "      <td>43.0</td>\n",
       "      <td>57.0</td>\n",
       "      <td>33000000</td>\n",
       "      <td>active</td>\n",
       "      <td>MASTER</td>\n",
       "      <td>0</td>\n",
       "    </tr>\n",
       "    <tr>\n",
       "      <th>2</th>\n",
       "      <td>24.0</td>\n",
       "      <td>0.0</td>\n",
       "      <td>2050000</td>\n",
       "      <td>retired</td>\n",
       "      <td>TRAINEE</td>\n",
       "      <td>1</td>\n",
       "    </tr>\n",
       "  </tbody>\n",
       "</table>\n",
       "</div>"
      ],
      "text/plain": [
       "    age  antiquity    salary    state seniority  sex_MASCULINO\n",
       "0  27.0        9.0   4000000   active  ADVANCED              0\n",
       "1  43.0       57.0  33000000   active    MASTER              0\n",
       "2  24.0        0.0   2050000  retired   TRAINEE              1"
      ]
     },
     "execution_count": 20,
     "metadata": {},
     "output_type": "execute_result"
    }
   ],
   "source": [
    "df2.head(3)"
   ]
  },
  {
   "cell_type": "code",
   "execution_count": 21,
   "metadata": {},
   "outputs": [
    {
     "data": {
      "text/plain": [
       "ADVANCED    615\n",
       "JUNIOR      390\n",
       "SENIOR      182\n",
       "MASTER       82\n",
       "TRAINEE      60\n",
       "Name: seniority, dtype: int64"
      ]
     },
     "execution_count": 21,
     "metadata": {},
     "output_type": "execute_result"
    }
   ],
   "source": [
    "df2.seniority.value_counts()"
   ]
  },
  {
   "cell_type": "code",
   "execution_count": 47,
   "metadata": {},
   "outputs": [],
   "source": [
    "# Crear un mapeo para la variable ordinal 'seniority\n",
    "\n",
    "seniority_mapping = {\n",
    "    'TRAINEE': 1,\n",
    "    'JUNIOR' : 2,\n",
    "    'ADVANCED' : 3,\n",
    "    'SENIOR' : 4,\n",
    "    'MASTER' : 5 \n",
    "}\n",
    "\n",
    "# Aplicar el mapeo a la columna \"seniority\"\n",
    "\n",
    "df2['seniority'] = df2['seniority'].map(seniority_mapping)"
   ]
  },
  {
   "cell_type": "code",
   "execution_count": 25,
   "metadata": {},
   "outputs": [
    {
     "data": {
      "text/plain": [
       "3    615\n",
       "2    390\n",
       "4    182\n",
       "5     82\n",
       "1     60\n",
       "Name: seniority, dtype: int64"
      ]
     },
     "execution_count": 25,
     "metadata": {},
     "output_type": "execute_result"
    }
   ],
   "source": [
    "df2.seniority.value_counts()"
   ]
  },
  {
   "cell_type": "code",
   "execution_count": 48,
   "metadata": {},
   "outputs": [],
   "source": [
    "# Mapear la variable dependeinte\n",
    "Y = df2['state'].map({'active':0, 'retired':1})"
   ]
  },
  {
   "cell_type": "code",
   "execution_count": 27,
   "metadata": {},
   "outputs": [
    {
     "data": {
      "text/plain": [
       "0    944\n",
       "1    385\n",
       "Name: state, dtype: int64"
      ]
     },
     "execution_count": 27,
     "metadata": {},
     "output_type": "execute_result"
    }
   ],
   "source": [
    "Y.value_counts()"
   ]
  },
  {
   "cell_type": "code",
   "execution_count": 29,
   "metadata": {},
   "outputs": [
    {
     "data": {
      "text/html": [
       "<div>\n",
       "<style scoped>\n",
       "    .dataframe tbody tr th:only-of-type {\n",
       "        vertical-align: middle;\n",
       "    }\n",
       "\n",
       "    .dataframe tbody tr th {\n",
       "        vertical-align: top;\n",
       "    }\n",
       "\n",
       "    .dataframe thead th {\n",
       "        text-align: right;\n",
       "    }\n",
       "</style>\n",
       "<table border=\"1\" class=\"dataframe\">\n",
       "  <thead>\n",
       "    <tr style=\"text-align: right;\">\n",
       "      <th></th>\n",
       "      <th>age</th>\n",
       "      <th>antiquity</th>\n",
       "      <th>salary</th>\n",
       "      <th>state</th>\n",
       "      <th>seniority</th>\n",
       "      <th>sex_MASCULINO</th>\n",
       "    </tr>\n",
       "  </thead>\n",
       "  <tbody>\n",
       "    <tr>\n",
       "      <th>0</th>\n",
       "      <td>27.0</td>\n",
       "      <td>9.0</td>\n",
       "      <td>4000000</td>\n",
       "      <td>active</td>\n",
       "      <td>3</td>\n",
       "      <td>0</td>\n",
       "    </tr>\n",
       "    <tr>\n",
       "      <th>1</th>\n",
       "      <td>43.0</td>\n",
       "      <td>57.0</td>\n",
       "      <td>33000000</td>\n",
       "      <td>active</td>\n",
       "      <td>5</td>\n",
       "      <td>0</td>\n",
       "    </tr>\n",
       "  </tbody>\n",
       "</table>\n",
       "</div>"
      ],
      "text/plain": [
       "    age  antiquity    salary   state  seniority  sex_MASCULINO\n",
       "0  27.0        9.0   4000000  active          3              0\n",
       "1  43.0       57.0  33000000  active          5              0"
      ]
     },
     "execution_count": 29,
     "metadata": {},
     "output_type": "execute_result"
    }
   ],
   "source": [
    "df2.head(2)"
   ]
  },
  {
   "cell_type": "code",
   "execution_count": 30,
   "metadata": {},
   "outputs": [],
   "source": [
    "# Estandarizar las variables numéricas 'edad', 'salario' y 'antiguedad'\n",
    "scaler = StandardScaler()\n",
    "df2[['age', 'salary', 'antiquity']] = scaler.fit_transform(df2[['age', 'salary', 'antiquity']])\n"
   ]
  },
  {
   "cell_type": "code",
   "execution_count": 49,
   "metadata": {},
   "outputs": [
    {
     "data": {
      "text/html": [
       "<div>\n",
       "<style scoped>\n",
       "    .dataframe tbody tr th:only-of-type {\n",
       "        vertical-align: middle;\n",
       "    }\n",
       "\n",
       "    .dataframe tbody tr th {\n",
       "        vertical-align: top;\n",
       "    }\n",
       "\n",
       "    .dataframe thead th {\n",
       "        text-align: right;\n",
       "    }\n",
       "</style>\n",
       "<table border=\"1\" class=\"dataframe\">\n",
       "  <thead>\n",
       "    <tr style=\"text-align: right;\">\n",
       "      <th></th>\n",
       "      <th>age</th>\n",
       "      <th>antiquity</th>\n",
       "      <th>salary</th>\n",
       "      <th>state</th>\n",
       "      <th>seniority</th>\n",
       "      <th>sex_MASCULINO</th>\n",
       "    </tr>\n",
       "  </thead>\n",
       "  <tbody>\n",
       "    <tr>\n",
       "      <th>0</th>\n",
       "      <td>27.0</td>\n",
       "      <td>9.0</td>\n",
       "      <td>4000000</td>\n",
       "      <td>active</td>\n",
       "      <td>3</td>\n",
       "      <td>0</td>\n",
       "    </tr>\n",
       "    <tr>\n",
       "      <th>1</th>\n",
       "      <td>43.0</td>\n",
       "      <td>57.0</td>\n",
       "      <td>33000000</td>\n",
       "      <td>active</td>\n",
       "      <td>5</td>\n",
       "      <td>0</td>\n",
       "    </tr>\n",
       "    <tr>\n",
       "      <th>2</th>\n",
       "      <td>24.0</td>\n",
       "      <td>0.0</td>\n",
       "      <td>2050000</td>\n",
       "      <td>retired</td>\n",
       "      <td>1</td>\n",
       "      <td>1</td>\n",
       "    </tr>\n",
       "  </tbody>\n",
       "</table>\n",
       "</div>"
      ],
      "text/plain": [
       "    age  antiquity    salary    state  seniority  sex_MASCULINO\n",
       "0  27.0        9.0   4000000   active          3              0\n",
       "1  43.0       57.0  33000000   active          5              0\n",
       "2  24.0        0.0   2050000  retired          1              1"
      ]
     },
     "execution_count": 49,
     "metadata": {},
     "output_type": "execute_result"
    }
   ],
   "source": [
    "df2.head(3)"
   ]
  },
  {
   "cell_type": "code",
   "execution_count": 50,
   "metadata": {},
   "outputs": [],
   "source": [
    "X = df2.drop('state', axis=1)"
   ]
  },
  {
   "cell_type": "code",
   "execution_count": 51,
   "metadata": {},
   "outputs": [],
   "source": [
    "X = sm.add_constant(X)"
   ]
  },
  {
   "cell_type": "code",
   "execution_count": 52,
   "metadata": {},
   "outputs": [
    {
     "name": "stdout",
     "output_type": "stream",
     "text": [
      "Optimization terminated successfully.\n",
      "         Current function value: 0.578763\n",
      "         Iterations 6\n",
      "                           Logit Regression Results                           \n",
      "==============================================================================\n",
      "Dep. Variable:                  state   No. Observations:                 1329\n",
      "Model:                          Logit   Df Residuals:                     1323\n",
      "Method:                           MLE   Df Model:                            5\n",
      "Date:                Sat, 29 Apr 2023   Pseudo R-squ.:                 0.03840\n",
      "Time:                        16:35:41   Log-Likelihood:                -769.18\n",
      "converged:                       True   LL-Null:                       -799.89\n",
      "Covariance Type:            nonrobust   LLR p-value:                 6.144e-12\n",
      "=================================================================================\n",
      "                    coef    std err          z      P>|z|      [0.025      0.975]\n",
      "---------------------------------------------------------------------------------\n",
      "const            -2.5685      0.361     -7.114      0.000      -3.276      -1.861\n",
      "age               0.0176      0.011      1.598      0.110      -0.004       0.039\n",
      "antiquity        -0.0037      0.003     -1.254      0.210      -0.010       0.002\n",
      "salary        -1.181e-07   2.63e-08     -4.490      0.000    -1.7e-07   -6.65e-08\n",
      "seniority         0.5143      0.082      6.308      0.000       0.355       0.674\n",
      "sex_MASCULINO     0.3777      0.163      2.323      0.020       0.059       0.696\n",
      "=================================================================================\n"
     ]
    }
   ],
   "source": [
    "model_2 = sm.Logit(Y, X).fit()\n",
    "print(model_2.summary())"
   ]
  },
  {
   "cell_type": "code",
   "execution_count": 58,
   "metadata": {},
   "outputs": [
    {
     "name": "stdout",
     "output_type": "stream",
     "text": [
      "Seniority level 1: 0.1285\n",
      "Seniority level 2: 0.1978\n",
      "Seniority level 3: 0.2919\n",
      "Seniority level 4: 0.4081\n",
      "Seniority level 5: 0.5356\n"
     ]
    }
   ],
   "source": [
    "# Calcular las medias de las variables independientes\n",
    "X_mean = X.mean()\n",
    "\n",
    "# Cambiar el valor de 'seniority' para cada nivel y calcular las posibilidades de renunciar\n",
    "seniority_levels = [1, 2, 3, 4, 5]\n",
    "for level in seniority_levels:\n",
    "    X_mean['seniority'] = level\n",
    "    logit = model_2.predict(X_mean.to_frame().T)  # Convertir la Serie en un DataFrame de una sola fila\n",
    "    probability = logit.iloc[0]  # Extraer la probabilidad estimada de la Serie resultante\n",
    "    print(f\"Seniority level {level}: {probability:.4f}\")\n"
   ]
  },
  {
   "cell_type": "code",
   "execution_count": 59,
   "metadata": {},
   "outputs": [
    {
     "data": {
      "text/html": [
       "<div>\n",
       "<style scoped>\n",
       "    .dataframe tbody tr th:only-of-type {\n",
       "        vertical-align: middle;\n",
       "    }\n",
       "\n",
       "    .dataframe tbody tr th {\n",
       "        vertical-align: top;\n",
       "    }\n",
       "\n",
       "    .dataframe thead th {\n",
       "        text-align: right;\n",
       "    }\n",
       "</style>\n",
       "<table border=\"1\" class=\"dataframe\">\n",
       "  <thead>\n",
       "    <tr style=\"text-align: right;\">\n",
       "      <th></th>\n",
       "      <th>age</th>\n",
       "      <th>antiquity</th>\n",
       "      <th>salary</th>\n",
       "      <th>state</th>\n",
       "      <th>seniority</th>\n",
       "      <th>sex_MASCULINO</th>\n",
       "    </tr>\n",
       "  </thead>\n",
       "  <tbody>\n",
       "    <tr>\n",
       "      <th>0</th>\n",
       "      <td>27.0</td>\n",
       "      <td>9.0</td>\n",
       "      <td>4000000</td>\n",
       "      <td>active</td>\n",
       "      <td>3</td>\n",
       "      <td>0</td>\n",
       "    </tr>\n",
       "    <tr>\n",
       "      <th>1</th>\n",
       "      <td>43.0</td>\n",
       "      <td>57.0</td>\n",
       "      <td>33000000</td>\n",
       "      <td>active</td>\n",
       "      <td>5</td>\n",
       "      <td>0</td>\n",
       "    </tr>\n",
       "    <tr>\n",
       "      <th>2</th>\n",
       "      <td>24.0</td>\n",
       "      <td>0.0</td>\n",
       "      <td>2050000</td>\n",
       "      <td>retired</td>\n",
       "      <td>1</td>\n",
       "      <td>1</td>\n",
       "    </tr>\n",
       "    <tr>\n",
       "      <th>3</th>\n",
       "      <td>25.0</td>\n",
       "      <td>21.0</td>\n",
       "      <td>5500000</td>\n",
       "      <td>active</td>\n",
       "      <td>3</td>\n",
       "      <td>1</td>\n",
       "    </tr>\n",
       "    <tr>\n",
       "      <th>4</th>\n",
       "      <td>31.0</td>\n",
       "      <td>93.0</td>\n",
       "      <td>3406000</td>\n",
       "      <td>active</td>\n",
       "      <td>3</td>\n",
       "      <td>0</td>\n",
       "    </tr>\n",
       "    <tr>\n",
       "      <th>...</th>\n",
       "      <td>...</td>\n",
       "      <td>...</td>\n",
       "      <td>...</td>\n",
       "      <td>...</td>\n",
       "      <td>...</td>\n",
       "      <td>...</td>\n",
       "    </tr>\n",
       "    <tr>\n",
       "      <th>1324</th>\n",
       "      <td>22.0</td>\n",
       "      <td>2.0</td>\n",
       "      <td>3508000</td>\n",
       "      <td>active</td>\n",
       "      <td>3</td>\n",
       "      <td>1</td>\n",
       "    </tr>\n",
       "    <tr>\n",
       "      <th>1325</th>\n",
       "      <td>26.0</td>\n",
       "      <td>56.0</td>\n",
       "      <td>7200000</td>\n",
       "      <td>active</td>\n",
       "      <td>4</td>\n",
       "      <td>0</td>\n",
       "    </tr>\n",
       "    <tr>\n",
       "      <th>1326</th>\n",
       "      <td>48.0</td>\n",
       "      <td>35.0</td>\n",
       "      <td>3208000</td>\n",
       "      <td>active</td>\n",
       "      <td>3</td>\n",
       "      <td>1</td>\n",
       "    </tr>\n",
       "    <tr>\n",
       "      <th>1327</th>\n",
       "      <td>26.0</td>\n",
       "      <td>3.0</td>\n",
       "      <td>5500000</td>\n",
       "      <td>active</td>\n",
       "      <td>3</td>\n",
       "      <td>1</td>\n",
       "    </tr>\n",
       "    <tr>\n",
       "      <th>1328</th>\n",
       "      <td>33.0</td>\n",
       "      <td>42.0</td>\n",
       "      <td>2500000</td>\n",
       "      <td>active</td>\n",
       "      <td>5</td>\n",
       "      <td>0</td>\n",
       "    </tr>\n",
       "  </tbody>\n",
       "</table>\n",
       "<p>1329 rows × 6 columns</p>\n",
       "</div>"
      ],
      "text/plain": [
       "       age  antiquity    salary    state  seniority  sex_MASCULINO\n",
       "0     27.0        9.0   4000000   active          3              0\n",
       "1     43.0       57.0  33000000   active          5              0\n",
       "2     24.0        0.0   2050000  retired          1              1\n",
       "3     25.0       21.0   5500000   active          3              1\n",
       "4     31.0       93.0   3406000   active          3              0\n",
       "...    ...        ...       ...      ...        ...            ...\n",
       "1324  22.0        2.0   3508000   active          3              1\n",
       "1325  26.0       56.0   7200000   active          4              0\n",
       "1326  48.0       35.0   3208000   active          3              1\n",
       "1327  26.0        3.0   5500000   active          3              1\n",
       "1328  33.0       42.0   2500000   active          5              0\n",
       "\n",
       "[1329 rows x 6 columns]"
      ]
     },
     "execution_count": 59,
     "metadata": {},
     "output_type": "execute_result"
    }
   ],
   "source": [
    "df2"
   ]
  },
  {
   "cell_type": "code",
   "execution_count": 62,
   "metadata": {},
   "outputs": [],
   "source": [
    "\n",
    "\n",
    "# Crear la tabla dinámica\n",
    "pivot_table = df2.pivot_table(index='seniority', columns='state', aggfunc='size', fill_value=0)\n",
    "\n",
    "\n"
   ]
  },
  {
   "cell_type": "code",
   "execution_count": 63,
   "metadata": {},
   "outputs": [
    {
     "data": {
      "text/html": [
       "<div>\n",
       "<style scoped>\n",
       "    .dataframe tbody tr th:only-of-type {\n",
       "        vertical-align: middle;\n",
       "    }\n",
       "\n",
       "    .dataframe tbody tr th {\n",
       "        vertical-align: top;\n",
       "    }\n",
       "\n",
       "    .dataframe thead th {\n",
       "        text-align: right;\n",
       "    }\n",
       "</style>\n",
       "<table border=\"1\" class=\"dataframe\">\n",
       "  <thead>\n",
       "    <tr style=\"text-align: right;\">\n",
       "      <th>state</th>\n",
       "      <th>active</th>\n",
       "      <th>retired</th>\n",
       "    </tr>\n",
       "    <tr>\n",
       "      <th>seniority</th>\n",
       "      <th></th>\n",
       "      <th></th>\n",
       "    </tr>\n",
       "  </thead>\n",
       "  <tbody>\n",
       "    <tr>\n",
       "      <th>1</th>\n",
       "      <td>50</td>\n",
       "      <td>10</td>\n",
       "    </tr>\n",
       "    <tr>\n",
       "      <th>2</th>\n",
       "      <td>286</td>\n",
       "      <td>104</td>\n",
       "    </tr>\n",
       "    <tr>\n",
       "      <th>3</th>\n",
       "      <td>433</td>\n",
       "      <td>182</td>\n",
       "    </tr>\n",
       "    <tr>\n",
       "      <th>4</th>\n",
       "      <td>150</td>\n",
       "      <td>32</td>\n",
       "    </tr>\n",
       "    <tr>\n",
       "      <th>5</th>\n",
       "      <td>25</td>\n",
       "      <td>57</td>\n",
       "    </tr>\n",
       "  </tbody>\n",
       "</table>\n",
       "</div>"
      ],
      "text/plain": [
       "state      active  retired\n",
       "seniority                 \n",
       "1              50       10\n",
       "2             286      104\n",
       "3             433      182\n",
       "4             150       32\n",
       "5              25       57"
      ]
     },
     "execution_count": 63,
     "metadata": {},
     "output_type": "execute_result"
    }
   ],
   "source": [
    "pivot_table"
   ]
  },
  {
   "cell_type": "code",
   "execution_count": 71,
   "metadata": {},
   "outputs": [
    {
     "name": "stdout",
     "output_type": "stream",
     "text": [
      "           renuncia  porcentaje_renuncias\n",
      "seniority                                \n",
      "1                10             16.666667\n",
      "2               104             26.666667\n",
      "3               182             29.593496\n",
      "4                32             17.582418\n",
      "5                57             69.512195\n"
     ]
    }
   ],
   "source": [
    "import pandas as pd\n",
    "\n",
    "# Crear la tabla de contingencia\n",
    "contingency_table = pd.crosstab(index=df2['seniority'], columns=df2['state'])\n",
    "\n",
    "# Cambiar los nombres de las columnas para evitar confusiones\n",
    "contingency_table.columns = ['no_renuncia', 'renuncia']\n",
    "\n",
    "# Calcular el total de personas por nivel de seniority\n",
    "contingency_table['total'] = contingency_table['no_renuncia'] + contingency_table['renuncia']\n",
    "\n",
    "# Calcular el porcentaje de renuncias por nivel de seniority\n",
    "contingency_table['porcentaje_renuncias'] = (contingency_table['renuncia'] / contingency_table['total']) * 100\n",
    "\n",
    "# Seleccionar las columnas de interés (número de renuncias y porcentaje de renuncias)\n",
    "renuncias_por_seniority = contingency_table[['renuncia', 'porcentaje_renuncias']]\n",
    "\n",
    "# Mostrar el resultado\n",
    "print(renuncias_por_seniority)\n"
   ]
  },
  {
   "cell_type": "code",
   "execution_count": null,
   "metadata": {},
   "outputs": [],
   "source": []
  },
  {
   "cell_type": "code",
   "execution_count": null,
   "metadata": {},
   "outputs": [],
   "source": []
  },
  {
   "cell_type": "code",
   "execution_count": null,
   "metadata": {},
   "outputs": [],
   "source": []
  },
  {
   "cell_type": "code",
   "execution_count": null,
   "metadata": {},
   "outputs": [],
   "source": []
  },
  {
   "cell_type": "code",
   "execution_count": null,
   "metadata": {},
   "outputs": [],
   "source": []
  },
  {
   "cell_type": "code",
   "execution_count": null,
   "metadata": {},
   "outputs": [],
   "source": []
  },
  {
   "cell_type": "code",
   "execution_count": null,
   "metadata": {},
   "outputs": [],
   "source": []
  },
  {
   "cell_type": "code",
   "execution_count": null,
   "metadata": {},
   "outputs": [],
   "source": []
  },
  {
   "cell_type": "code",
   "execution_count": null,
   "metadata": {},
   "outputs": [],
   "source": []
  },
  {
   "cell_type": "code",
   "execution_count": null,
   "metadata": {},
   "outputs": [],
   "source": []
  },
  {
   "cell_type": "code",
   "execution_count": null,
   "metadata": {},
   "outputs": [],
   "source": []
  },
  {
   "cell_type": "code",
   "execution_count": null,
   "metadata": {},
   "outputs": [],
   "source": []
  },
  {
   "cell_type": "code",
   "execution_count": null,
   "metadata": {},
   "outputs": [],
   "source": []
  },
  {
   "cell_type": "code",
   "execution_count": null,
   "metadata": {},
   "outputs": [],
   "source": []
  },
  {
   "cell_type": "code",
   "execution_count": null,
   "metadata": {},
   "outputs": [],
   "source": []
  },
  {
   "cell_type": "code",
   "execution_count": 61,
   "metadata": {},
   "outputs": [],
   "source": [
    "X = X.drop(['antiquity'], axis=1)"
   ]
  },
  {
   "cell_type": "code",
   "execution_count": 62,
   "metadata": {},
   "outputs": [
    {
     "name": "stdout",
     "output_type": "stream",
     "text": [
      "Optimization terminated successfully.\n",
      "         Current function value: 0.559275\n",
      "         Iterations 6\n"
     ]
    }
   ],
   "source": [
    "model = sm.Logit(Y, sm.add_constant(X)).fit()"
   ]
  },
  {
   "cell_type": "code",
   "execution_count": 63,
   "metadata": {},
   "outputs": [
    {
     "name": "stdout",
     "output_type": "stream",
     "text": [
      "                           Logit Regression Results                           \n",
      "==============================================================================\n",
      "Dep. Variable:                  state   No. Observations:                 1329\n",
      "Model:                          Logit   Df Residuals:                     1321\n",
      "Method:                           MLE   Df Model:                            7\n",
      "Date:                Tue, 14 Mar 2023   Pseudo R-squ.:                 0.07078\n",
      "Time:                        18:17:13   Log-Likelihood:                -743.28\n",
      "converged:                       True   LL-Null:                       -799.89\n",
      "Covariance Type:            nonrobust   LLR p-value:                 1.959e-21\n",
      "=====================================================================================\n",
      "                        coef    std err          z      P>|z|      [0.025      0.975]\n",
      "-------------------------------------------------------------------------------------\n",
      "const                -1.2075      0.164     -7.386      0.000      -1.528      -0.887\n",
      "age                   0.1331      0.075      1.774      0.076      -0.014       0.280\n",
      "salary               -0.4682      0.095     -4.935      0.000      -0.654      -0.282\n",
      "sex_MASCULINO         0.3872      0.167      2.323      0.020       0.060       0.714\n",
      "seniority_JUNIOR     -0.3025      0.152     -1.995      0.046      -0.600      -0.005\n",
      "seniority_MASTER      2.2133      0.298      7.436      0.000       1.630       2.797\n",
      "seniority_SENIOR     -0.4343      0.223     -1.946      0.052      -0.872       0.003\n",
      "seniority_TRAINEE    -0.9494      0.367     -2.586      0.010      -1.669      -0.230\n",
      "=====================================================================================\n"
     ]
    }
   ],
   "source": [
    "print(model.summary())"
   ]
  },
  {
   "attachments": {},
   "cell_type": "markdown",
   "metadata": {},
   "source": [
    "La interpretación de los coeficientes en una regresión logística se puede realizar a través del exponente de cada coeficiente, el cual representa el cambio multiplicativo en la probabilidad de la variable dependiente (en este caso, el estado de empleo) por cada unidad de cambio en la variable independiente correspondiente, manteniendo constantes todas las demás variables independientes.\n",
    "\n",
    "La constante (-1.2075) representa el logaritmo de la proporción de chances (odds ratio) de que una persona renuncie a su trabajo cuando todas las variables independientes son iguales a cero. Esto significa que si todas las variables independientes fueran cero, la probabilidad de renunciar al trabajo sería exp(-1.2075) / (1 + exp(-1.2075)) = 0.23, lo que indica que el 23% de las personas renunciarían a su trabajo.\n",
    "\n",
    "El coeficiente de la variable \"edad\" (0.1331) indica que por cada unidad de aumento en la edad de una persona, la probabilidad de que renuncie a su trabajo aumentará multiplicativamente en exp(0.1331) = 1.14 veces, manteniendo constantes todas las demás variables independientes.\n",
    "\n",
    "El coeficiente de la variable \"salario\" (-0.4682) indica que por cada unidad de aumento en el salario de una persona, la probabilidad de que renuncie a su trabajo disminuirá multiplicativamente en exp(-0.4682) = 0.63 veces, manteniendo constantes todas las demás variables independientes.\n",
    "\n",
    "El coeficiente de la variable \"sexo_masculino\" (0.3872) indica que si una persona es de género masculino (comparado con género femenino), la probabilidad de que renuncie a su trabajo aumentará multiplicativamente en exp(0.3872) = 1.47 veces, manteniendo constantes todas las demás variables independientes.\n",
    "\n",
    "Los coeficientes de las variables categóricas \"seniority\" indican cómo cambia la probabilidad de que una persona renuncie a su trabajo en comparación con el nivel base (Trainee). En particular, el coeficiente de \"seniority_Master\" (2.2133) indica que si una persona tiene el nivel de seniority \"Master\" (comparado con \"Trainee\"), la probabilidad de que renuncie a su trabajo aumentará multiplicativamente en exp(2.2133) = 9.14 veces, manteniendo constantes todas las demás variables independientes. De manera similar, el coeficiente de \"seniority_Junior\" (-0.3025) indica que si una persona tiene el nivel de seniority \"Junior\" (comparado con \"Trainee\"), la probabilidad de que renuncie a su trabajo disminuirá multiplicativamente en exp(-0.3025) = 0.74 veces, manteniendo constantes todas las demás variables independientes. Y, finalmente, el coeficiente de \"seniority_Senior\" (-0.4343) indica que si una persona tiene el nivel de seniority \"Senior\" (comparado con \"Trainee\"), la probabilidad de que renuncie a su trabajo disminuirá multiplicativamente en exp(-0.4343) = 0.65 veces, manteniendo constantes todas las demás variables independientes."
   ]
  },
  {
   "attachments": {},
   "cell_type": "markdown",
   "metadata": {},
   "source": [
    "# Pendiente\n",
    "\n",
    "Pensar en como presentar los resultados a los tomadores de decisiones"
   ]
  },
  {
   "attachments": {},
   "cell_type": "markdown",
   "metadata": {},
   "source": [
    "# Calcular la probabilidad de permanencia o renuncia"
   ]
  },
  {
   "cell_type": "code",
   "execution_count": 7,
   "metadata": {},
   "outputs": [],
   "source": [
    "import numpy as np\n",
    "\n",
    "# Valores de los coeficientes\n",
    "coeficientes = np.array([-1.2075, 0.1331, -0.4682, 0.3872, -0.3025, 2.2133, -0.4343, -0.9494])\n",
    "\n",
    "# Media y desviación estándar de las variables numéricas\n",
    "media_edad = 35.0\n",
    "desv_edad = 5.0\n",
    "media_salario = 50000.0\n",
    "desv_salario = 10000.0"
   ]
  },
  {
   "cell_type": "code",
   "execution_count": 8,
   "metadata": {},
   "outputs": [],
   "source": [
    "# Función para estandarizar las variables numéricas\n",
    "def estandarizar_variables_numéricas(edad, salario):\n",
    "    edad_estandarizada = (edad - media_edad) / desv_edad\n",
    "    salario_estandarizado = (salario - media_salario) / desv_salario\n",
    "    return edad_estandarizada, salario_estandarizado"
   ]
  },
  {
   "cell_type": "code",
   "execution_count": 9,
   "metadata": {},
   "outputs": [],
   "source": [
    "# Función para calcular la probabilidad de que un empleado renuncie o permanezca en su trabajo\n",
    "def calcular_probabilidad_renuncia(coeficientes, edad, salario, sexo_masculino, seniority_Junior, seniority_Master, seniority_Senior, seniority_Trainee):\n",
    "    # Estandarizar variables numéricas\n",
    "    edad_estandarizada, salario_estandarizado = estandarizar_variables_numéricas(edad, salario)\n",
    "    # Crear vector de variables independientes\n",
    "    variables_independientes = np.array([1, edad_estandarizada, salario_estandarizado, sexo_masculino, seniority_Junior, seniority_Master, seniority_Senior, seniority_Trainee])\n",
    "    # Calcular la probabilidad de renuncia\n",
    "    probabilidad_renuncia = 1 / (1 + np.exp(-np.dot(coeficientes, variables_independientes)))\n",
    "    return probabilidad_renuncia"
   ]
  },
  {
   "cell_type": "code",
   "execution_count": 24,
   "metadata": {},
   "outputs": [
    {
     "name": "stdout",
     "output_type": "stream",
     "text": [
      "Probabilidad de renuncia: 0.3063243458016908\n"
     ]
    }
   ],
   "source": [
    "# Ejemplo de cálculo de probabilidad de renuncia\n",
    "probabilidad_renuncia = calcular_probabilidad_renuncia(coeficientes, 22, 25000, 0, 0, 0, 1, 0)\n",
    "print(\"Probabilidad de renuncia:\", probabilidad_renuncia)"
   ]
  },
  {
   "cell_type": "code",
   "execution_count": 25,
   "metadata": {},
   "outputs": [
    {
     "name": "stdout",
     "output_type": "stream",
     "text": [
      "Probabilidad de permanencia: 0.6936756541983091\n"
     ]
    }
   ],
   "source": [
    "print(\"Probabilidad de permanencia:\", 1-probabilidad_renuncia)"
   ]
  },
  {
   "cell_type": "code",
   "execution_count": null,
   "metadata": {},
   "outputs": [],
   "source": []
  },
  {
   "attachments": {},
   "cell_type": "markdown",
   "metadata": {},
   "source": [
    "# Queda pendiente revisar como afentaría el cambio en Seniority de variables nominal a ordinal\n",
    "\n",
    "Revisar los siguientes enlaces:\n",
    "\n",
    "[Enlace 1](https://analyticsindiamag.com/a-complete-tutorial-on-ordinal-regression-in-python/)\n",
    "\n",
    "[Enlace 2](https://towardsdatascience.com/implementing-and-interpreting-ordinal-logistic-regression-1ee699274cf5)\n",
    "\n",
    "[Enlace 3](https://www.statsmodels.org/dev/generated/statsmodels.miscmodels.ordinal_model.OrderedModel.html)\n",
    "\n",
    "[Enlace 4](https://www.kaggle.com/code/startupsci/titanic-data-science-solutions)\n"
   ]
  },
  {
   "cell_type": "markdown",
   "metadata": {},
   "source": []
  }
 ],
 "metadata": {
  "kernelspec": {
   "display_name": "Python 3",
   "language": "python",
   "name": "python3"
  },
  "language_info": {
   "codemirror_mode": {
    "name": "ipython",
    "version": 3
   },
   "file_extension": ".py",
   "mimetype": "text/x-python",
   "name": "python",
   "nbconvert_exporter": "python",
   "pygments_lexer": "ipython3",
   "version": "3.9.13"
  },
  "orig_nbformat": 4,
  "vscode": {
   "interpreter": {
    "hash": "31f2aee4e71d21fbe5cf8b01ff0e069b9275f58929596ceb00d14d90e3e16cd6"
   }
  }
 },
 "nbformat": 4,
 "nbformat_minor": 2
}
